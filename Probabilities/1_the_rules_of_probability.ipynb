{
 "cells": [
  {
   "cell_type": "markdown",
   "metadata": {},
   "source": [
    "# The rules of probability"
   ]
  },
  {
   "cell_type": "markdown",
   "metadata": {},
   "source": [
    "Some dependencies"
   ]
  },
  {
   "cell_type": "code",
   "execution_count": 71,
   "metadata": {},
   "outputs": [],
   "source": [
    "import numpy as np\n",
    "import matplotlib.pyplot as plt"
   ]
  },
  {
   "cell_type": "markdown",
   "metadata": {},
   "source": [
    "Params"
   ]
  },
  {
   "cell_type": "code",
   "execution_count": 72,
   "metadata": {},
   "outputs": [
    {
     "name": "stdout",
     "output_type": "stream",
     "text": [
      "Random variable X: [1 4 2 1 4 4 4 4 2 4 2 3 1 4 3]\n",
      "Random variable Y: [1 1 1 1 2 1 2 2 1 1 2 2 2 2 1]\n"
     ]
    }
   ],
   "source": [
    "# Sample size\n",
    "N = 15\n",
    "\n",
    "# Given two random variables X,Y.\n",
    "np.random.seed(0)\n",
    "X = np.random.randint(1, 5, N)\n",
    "Y = np.random.randint(1, 3, N)\n",
    "\n",
    "# Add random noise for grid positioning and no overlapping of samples.\n",
    "noise_x = np.random.uniform(-0.1, 0.1, N)\n",
    "noise_y = np.random.uniform(-0.1, 0.1, N)\n",
    "\n",
    "print(\"Random variable X:\",X)\n",
    "print(\"Random variable Y:\",Y)"
   ]
  },
  {
   "cell_type": "markdown",
   "metadata": {},
   "source": [
    "## Joint probability"
   ]
  },
  {
   "cell_type": "markdown",
   "metadata": {},
   "source": [
    "With the two random variables, we make with the ocurrences our distribution p(x,y)"
   ]
  },
  {
   "cell_type": "markdown",
   "metadata": {},
   "source": [
    "$p(X=x_i,Y=y_j) = \\frac{n_{ij}}{N}$"
   ]
  },
  {
   "cell_type": "code",
   "execution_count": 73,
   "metadata": {},
   "outputs": [
    {
     "name": "stdout",
     "output_type": "stream",
     "text": [
      "Ocurrences:\n",
      "[[2. 2. 1. 3.]\n",
      " [1. 1. 1. 4.]]\n",
      "Ocurrence ij divided by N:\n",
      "[[0.13333333 0.13333333 0.06666667 0.2       ]\n",
      " [0.06666667 0.06666667 0.06666667 0.26666667]]\n"
     ]
    }
   ],
   "source": [
    "# Joint distribution p(X,Y)\n",
    "joint_dist = np.zeros((4, 2))\n",
    "for x in range(1, 5):\n",
    "    for y in range(1, 3):\n",
    "        joint_dist[x-1, y-1] = np.sum((X == x) & (Y == y))\n",
    "\n",
    "print(\"Ocurrences:\")\n",
    "print(np.transpose(joint_dist))\n",
    "print(\"Ocurrence ij divided by N:\")\n",
    "\n",
    "# nij/N\n",
    "joint_prob = joint_dist / N\n",
    "print(np.transpose(joint_prob))\n"
   ]
  },
  {
   "cell_type": "markdown",
   "metadata": {},
   "source": [
    "Then we can get the marginal probabilities"
   ]
  },
  {
   "cell_type": "markdown",
   "metadata": {},
   "source": [
    "$p(X=x_i) = \\frac{c_{i}}{N}$"
   ]
  },
  {
   "cell_type": "markdown",
   "metadata": {},
   "source": [
    "$p(X=y_j) = \\frac{r_{j}}{N}$"
   ]
  },
  {
   "cell_type": "markdown",
   "metadata": {},
   "source": [
    "$c_i$ are the columns of distribution\n",
    "\n",
    "$r_j$ are the rows of distribution"
   ]
  },
  {
   "cell_type": "markdown",
   "metadata": {},
   "source": [
    "## Addition Rule and Marginal Probability"
   ]
  },
  {
   "cell_type": "code",
   "execution_count": 74,
   "metadata": {},
   "outputs": [
    {
     "name": "stdout",
     "output_type": "stream",
     "text": [
      "Ocurrences:\n",
      "[[2. 2. 1. 3.]\n",
      " [1. 1. 1. 4.]]\n",
      "\n",
      "Marginal probabilieties of X:\n",
      " [0.2        0.2        0.13333333 0.46666667]\n",
      "\n",
      "Marginal probabilieties of Y:\n",
      " [0.53333333 0.46666667]\n"
     ]
    }
   ],
   "source": [
    "print(\"Ocurrences:\")\n",
    "print(np.transpose(joint_dist))\n",
    "#ci/N\n",
    "marginal_X = np.sum(joint_dist, axis=1)/15\n",
    "#rj/N\n",
    "marginal_Y = np.sum(joint_dist, axis=0)/15\n",
    "print()\n",
    "print(\"Marginal probabilieties of X:\\n\",marginal_X)\n",
    "print()\n",
    "print(\"Marginal probabilieties of Y:\\n\",marginal_Y)"
   ]
  },
  {
   "cell_type": "markdown",
   "metadata": {},
   "source": [
    "Implicitly, we discover the addition rule:"
   ]
  },
  {
   "cell_type": "markdown",
   "metadata": {},
   "source": [
    "$p(X) = \\sum_{Y} p(X,Y)$"
   ]
  },
  {
   "cell_type": "markdown",
   "metadata": {},
   "source": [
    "## Product Rule and Conditional Probability"
   ]
  },
  {
   "cell_type": "markdown",
   "metadata": {},
   "source": [
    "Also we can get conditional probabilities"
   ]
  },
  {
   "cell_type": "markdown",
   "metadata": {},
   "source": [
    "$p(Y=y_i|X=x_j) = \\frac{n_{ij}}{c_i}$"
   ]
  },
  {
   "cell_type": "markdown",
   "metadata": {},
   "source": [
    "$p(X=x_i|Y=y_j) = \\frac{n_{ij}}{r_j}$"
   ]
  },
  {
   "cell_type": "code",
   "execution_count": 75,
   "metadata": {},
   "outputs": [
    {
     "name": "stdout",
     "output_type": "stream",
     "text": [
      "Ocurrences:\n",
      "[[2. 2. 1. 3.]\n",
      " [1. 1. 1. 4.]]\n",
      "\n",
      "Conditional Probabilities P(Y|X):\n",
      "P(Y = 1 | X = 1) = 0.67\n",
      "P(Y = 2 | X = 1) = 0.33\n",
      "P(Y = 1 | X = 2) = 0.67\n",
      "P(Y = 2 | X = 2) = 0.33\n",
      "P(Y = 1 | X = 3) = 0.50\n",
      "P(Y = 2 | X = 3) = 0.50\n",
      "P(Y = 1 | X = 4) = 0.43\n",
      "P(Y = 2 | X = 4) = 0.57\n",
      "\n",
      "Conditional Probabilities P(X|Y):\n",
      "P(X = 1 | Y = 1) = 0.25\n",
      "P(X = 2 | Y = 1) = 0.25\n",
      "P(X = 3 | Y = 1) = 0.12\n",
      "P(X = 4 | Y = 1) = 0.38\n",
      "P(X = 1 | Y = 2) = 0.14\n",
      "P(X = 2 | Y = 2) = 0.14\n",
      "P(X = 3 | Y = 2) = 0.14\n",
      "P(X = 4 | Y = 2) = 0.57\n"
     ]
    }
   ],
   "source": [
    "print(\"Ocurrences:\")\n",
    "print(np.transpose(joint_dist))\n",
    "\n",
    "row_sums = np.sum(joint_dist, axis=1)\n",
    "col_sums = np.sum(joint_dist, axis=0)\n",
    "\n",
    "#nij/ci and nij/rj\n",
    "cond_prob_Y_given_X = np.zeros_like(joint_dist)\n",
    "cond_prob_X_given_Y = np.zeros_like(joint_dist)\n",
    "\n",
    "for i in range(joint_dist.shape[0]):\n",
    "    for j in range(joint_dist.shape[1]):\n",
    "        cond_prob_Y_given_X[i, j] = joint_dist[i, j] / row_sums[i] if row_sums[i] != 0 else 0\n",
    "        cond_prob_X_given_Y[i, j] = joint_dist[i, j] / col_sums[j] if col_sums[j] != 0 else 0\n",
    "\n",
    "print(\"\\nConditional Probabilities P(Y|X):\")\n",
    "for i in range(cond_prob_Y_given_X.shape[0]):\n",
    "    for j in range(cond_prob_Y_given_X.shape[1]):\n",
    "        print(f\"P(Y = {j+1} | X = {i+1}) = {cond_prob_Y_given_X[i, j]:.2f}\")\n",
    "\n",
    "print(\"\\nConditional Probabilities P(X|Y):\")\n",
    "for j in range(cond_prob_X_given_Y.shape[1]):\n",
    "    for i in range(cond_prob_X_given_Y.shape[0]):\n",
    "        print(f\"P(X = {i+1} | Y = {j+1}) = {cond_prob_X_given_Y[i, j]:.2f}\")"
   ]
  },
  {
   "cell_type": "markdown",
   "metadata": {},
   "source": [
    "Now given the joint probability, conditional probability and marginal probability the following can be deduced"
   ]
  },
  {
   "cell_type": "markdown",
   "metadata": {},
   "source": [
    "$\n",
    "p(X,Y) = \\frac{n_{ij}}{N} ; \\quad p(X) = \\frac{c_i}{N} ; \\quad p(Y|X) = \\frac{n_{ij}}{c_i}\n",
    "$\n",
    "\n",
    "$\n",
    "p(X,Y) = \\frac{n_{ij}}{N} = \\frac{n_{ij}}{c_i} \\cdot \\frac{c_i}{N}\n",
    "$\n",
    "\n",
    "$\n",
    "p(X,Y) = p(Y|X) p(X)\n",
    "$\n",
    "\n",
    "\n",
    "\n"
   ]
  },
  {
   "cell_type": "code",
   "execution_count": 76,
   "metadata": {},
   "outputs": [
    {
     "data": {
      "image/png": "[encoded data removed]",
      "text/plain": [
       "<Figure size 1800x1000 with 3 Axes>"
      ]
     },
     "metadata": {},
     "output_type": "display_data"
    },
    {
     "data": {
      "image/png": "[encoded data removed]",
      "text/plain": [
       "<Figure size 1800x500 with 2 Axes>"
      ]
     },
     "metadata": {},
     "output_type": "display_data"
    }
   ],
   "source": [
    "fig = plt.figure(figsize=(18, 10))\n",
    "\n",
    "# Subplot joint distribution p(X,Y)\n",
    "ax_joint = plt.subplot2grid((3, 3), (0, 0), colspan=2, rowspan=2)\n",
    "ax_joint.scatter(X + noise_x, Y + noise_y, alpha=0.5, color='blue')\n",
    "ax_joint.set_title('Distribución Conjunta P(X,Y)')\n",
    "ax_joint.set_xlabel('X')\n",
    "ax_joint.set_ylabel('Y')\n",
    "ax_joint.set_xticks([1, 2, 3, 4])\n",
    "ax_joint.set_yticks([1, 2])\n",
    "\n",
    "# Subplot marginal distribution p(X)\n",
    "ax_marginal_x = plt.subplot2grid((3, 3), (2, 0), colspan=2)\n",
    "ax_marginal_x.bar(range(1, 5), marginal_X, color='blue', alpha=0.7)\n",
    "ax_marginal_x.set_title('Distribución Marginal P(X)')\n",
    "ax_marginal_x.set_xlabel('X')\n",
    "ax_marginal_x.set_ylabel('Probabilidad')\n",
    "ax_marginal_x.set_xticks([1, 2, 3, 4])\n",
    "\n",
    "# Subplot marginal distribution p(Y)\n",
    "ax_marginal_y = plt.subplot2grid((3, 3), (0, 2), rowspan=2)\n",
    "ax_marginal_y.barh(range(1, 3), marginal_Y, color='green', alpha=0.7)\n",
    "ax_marginal_y.set_title('Distribución Marginal P(Y)')\n",
    "ax_marginal_y.set_xlabel('Probabilidad')\n",
    "ax_marginal_y.set_ylabel('Y')\n",
    "ax_marginal_y.set_yticks([1, 2])\n",
    "\n",
    "fig_cond = plt.figure(figsize=(18, 5))\n",
    "\n",
    "# Subplot conditional distribution P(X|Y)\n",
    "ax_cond_x_given_y = plt.subplot(1, 2, 1)\n",
    "colors = ['red', 'green']\n",
    "for y in range(1, 3):\n",
    "    ax_cond_x_given_y.scatter(X[Y == y] + noise_x[Y == y], Y[Y == y] + noise_y[Y == y], alpha=0.5, color=colors[y-1], label=f'Y={y}')\n",
    "ax_cond_x_given_y.set_title('Distribución Condicional P(X|Y)')\n",
    "ax_cond_x_given_y.set_xlabel('X')\n",
    "ax_cond_x_given_y.set_ylabel('Y')\n",
    "ax_cond_x_given_y.set_xticks([1, 2, 3, 4])\n",
    "ax_cond_x_given_y.set_yticks([1, 2])\n",
    "ax_cond_x_given_y.legend()\n",
    "\n",
    "# Subplot conditional distribution P(Y|X)\n",
    "ax_cond_y_given_x = plt.subplot(1, 2, 2)\n",
    "colors = ['red', 'green', 'blue', 'purple']\n",
    "for x in range(1, 5):\n",
    "    ax_cond_y_given_x.scatter(X[X == x] + noise_x[X == x], Y[X == x] + noise_y[X == x], alpha=0.5, color=colors[x-1], label=f'X={x}')\n",
    "ax_cond_y_given_x.set_title('Distribución Condicional P(Y|X)')\n",
    "ax_cond_y_given_x.set_xlabel('X')\n",
    "ax_cond_y_given_x.set_ylabel('Y')\n",
    "ax_cond_y_given_x.set_xticks([1, 2, 3, 4])\n",
    "ax_cond_y_given_x.set_yticks([1, 2])\n",
    "ax_cond_y_given_x.legend()\n",
    "\n",
    "plt.tight_layout()\n",
    "plt.show()\n"
   ]
  },
  {
   "cell_type": "markdown",
   "metadata": {},
   "source": [
    "Also we can get the bayes theorem with the simmetry property"
   ]
  },
  {
   "cell_type": "markdown",
   "metadata": {},
   "source": [
    "$p(X,Y)=p(Y,X)$"
   ]
  },
  {
   "cell_type": "markdown",
   "metadata": {},
   "source": [
    "$p(Y|X)p(X) = p(X|Y)p(Y)$"
   ]
  },
  {
   "cell_type": "markdown",
   "metadata": {},
   "source": [
    "$p(Y|X) = \\frac{p(X|Y)p(Y)}{p(X)}$"
   ]
  },
  {
   "cell_type": "markdown",
   "metadata": {},
   "source": [
    "also doing some cool shit, with the addition rule we can get another view of p(X)"
   ]
  },
  {
   "cell_type": "markdown",
   "metadata": {},
   "source": [
    "$p(Y|X)p(X) = p(X|Y)p(Y)$"
   ]
  },
  {
   "cell_type": "markdown",
   "metadata": {},
   "source": [
    "$p(X,Y) = p(X|Y)p(Y)$"
   ]
  },
  {
   "cell_type": "markdown",
   "metadata": {},
   "source": [
    "$p(X) = \\sum_{Y}p(X|Y)p(Y)$"
   ]
  }
 ],
 "metadata": {
  "kernelspec": {
   "display_name": "bishop_prob",
   "language": "python",
   "name": "python3"
  },
  "language_info": {
   "codemirror_mode": {
    "name": "ipython",
    "version": 3
   },
   "file_extension": ".py",
   "mimetype": "text/x-python",
   "name": "python",
   "nbconvert_exporter": "python",
   "pygments_lexer": "ipython3",
   "version": "3.11.9"
  }
 },
 "nbformat": 4,
 "nbformat_minor": 2
}
